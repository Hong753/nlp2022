{
 "cells": [
  {
   "cell_type": "code",
   "execution_count": 1,
   "id": "cc879df8",
   "metadata": {},
   "outputs": [],
   "source": [
    "from datasets import CUBDataset\n",
    "\n",
    "data_path = \"/home/hong/datasets/CUB_200_2011\"\n",
    "train_dataset = CUBDataset(data_path, split=\"train\")\n",
    "test_dataset = CUBDataset(data_path, split=\"test\")"
   ]
  },
  {
   "cell_type": "code",
   "execution_count": 2,
   "id": "19660823",
   "metadata": {},
   "outputs": [
    {
     "name": "stdout",
     "output_type": "stream",
     "text": [
      "8855\n",
      "['002.Laysan_Albatross/Laysan_Albatross_0002_1027'\n",
      " '002.Laysan_Albatross/Laysan_Albatross_0003_1033'\n",
      " '002.Laysan_Albatross/Laysan_Albatross_0082_524' ...\n",
      " '200.Common_Yellowthroat/Common_Yellowthroat_0008_190703'\n",
      " '200.Common_Yellowthroat/Common_Yellowthroat_0049_190708'\n",
      " '200.Common_Yellowthroat/Common_Yellowthroat_0055_190967']\n"
     ]
    }
   ],
   "source": [
    "print(len(train_dataset))\n",
    "print(train_dataset.filenames)"
   ]
  },
  {
   "cell_type": "code",
   "execution_count": 3,
   "id": "f2d08b81",
   "metadata": {},
   "outputs": [
    {
     "name": "stdout",
     "output_type": "stream",
     "text": [
      "2933\n",
      "['001.Black_footed_Albatross/Black_Footed_Albatross_0046_18'\n",
      " '001.Black_footed_Albatross/Black_Footed_Albatross_0009_34'\n",
      " '001.Black_footed_Albatross/Black_Footed_Albatross_0002_55' ...\n",
      " '197.Marsh_Wren/Marsh_Wren_0027_188376'\n",
      " '197.Marsh_Wren/Marsh_Wren_0107_188390'\n",
      " '197.Marsh_Wren/Marsh_Wren_0119_188404']\n"
     ]
    }
   ],
   "source": [
    "print(len(test_dataset))\n",
    "print(test_dataset.filenames)"
   ]
  },
  {
   "cell_type": "code",
   "execution_count": 4,
   "id": "51c1021c",
   "metadata": {},
   "outputs": [
    {
     "name": "stdout",
     "output_type": "stream",
     "text": [
      "88550\n",
      "['a', 'bird', 'with', 'a', 'very', 'long', 'wing', 'span', 'and', 'a', 'long', 'pointed', 'beak']\n",
      "[3066, 4217, 2622, 3066, 2774, 3959, 340, 3950, 1946, 3066, 3959, 1692, 4839]\n",
      "a bird with a very long wing span and a long pointed beak "
     ]
    }
   ],
   "source": [
    "print(len(train_dataset.captions))\n",
    "print(train_dataset.captions[0])\n",
    "print(train_dataset.captions_id[0])\n",
    "for word_id in train_dataset.captions_id[0]:\n",
    "    print(train_dataset.id2word[word_id], end=\" \")"
   ]
  },
  {
   "cell_type": "code",
   "execution_count": 5,
   "id": "2a0b76f9",
   "metadata": {},
   "outputs": [
    {
     "name": "stdout",
     "output_type": "stream",
     "text": [
      "29330\n",
      "['light', 'tan', 'colored', 'bird', 'with', 'a', 'white', 'head', 'and', 'an', 'orange', 'beak']\n",
      "[4426, 4382, 2887, 4217, 2622, 3066, 1902, 1227, 1946, 3973, 4472, 4839]\n",
      "light tan colored bird with a white head and an orange beak "
     ]
    }
   ],
   "source": [
    "print(len(test_dataset.captions))\n",
    "print(test_dataset.captions[0])\n",
    "print(test_dataset.captions_id[0])\n",
    "for word_id in test_dataset.captions_id[0]:\n",
    "    print(test_dataset.id2word[word_id], end=\" \")"
   ]
  }
 ],
 "metadata": {
  "kernelspec": {
   "display_name": "Python 3 (ipykernel)",
   "language": "python",
   "name": "python3"
  },
  "language_info": {
   "codemirror_mode": {
    "name": "ipython",
    "version": 3
   },
   "file_extension": ".py",
   "mimetype": "text/x-python",
   "name": "python",
   "nbconvert_exporter": "python",
   "pygments_lexer": "ipython3",
   "version": "3.8.15"
  }
 },
 "nbformat": 4,
 "nbformat_minor": 5
}
