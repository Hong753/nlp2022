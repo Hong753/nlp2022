{
 "cells": [
  {
   "cell_type": "code",
   "execution_count": 1,
   "metadata": {},
   "outputs": [],
   "source": [
    "%load_ext autoreload\n",
    "%autoreload 2"
   ]
  },
  {
   "cell_type": "code",
   "execution_count": 2,
   "metadata": {},
   "outputs": [],
   "source": [
    "from NLP2022.data_utils.datasets import CUBDataset"
   ]
  },
  {
   "cell_type": "code",
   "execution_count": 3,
   "metadata": {},
   "outputs": [],
   "source": [
    "import os\n",
    "from NLP2022.cfg.config import get_default_config\n",
    "\n",
    "cfg = get_default_config()\n",
    "cfg.merge_from_file(\"NLP2022/cfg/cub_dfgan.yaml\")"
   ]
  },
  {
   "cell_type": "code",
   "execution_count": 4,
   "metadata": {},
   "outputs": [],
   "source": [
    "data_path = os.path.join(cfg.DATA.data_dir, cfg.DATA.dataset_name)\n",
    "\n",
    "dataset_kwargs = {\"data_path\": data_path, \n",
    "                \"num_captions\": cfg.DATA.num_captions, \n",
    "                \"num_words\": cfg.DATA.num_words, \n",
    "                \"img_resolution\": cfg.DATA.img_size}\n",
    "train_dataset = CUBDataset(split=\"train\", **dataset_kwargs)"
   ]
  },
  {
   "cell_type": "code",
   "execution_count": 5,
   "metadata": {},
   "outputs": [
    {
     "data": {
      "text/plain": [
       "{'images': tensor([[[0.6706, 0.6706, 0.6627,  ..., 0.6627, 0.6706, 0.6706],\n",
       "          [0.6627, 0.6627, 0.6627,  ..., 0.6627, 0.6627, 0.6706],\n",
       "          [0.6627, 0.6627, 0.6706,  ..., 0.6706, 0.6706, 0.6784],\n",
       "          ...,\n",
       "          [0.6392, 0.6549, 0.6627,  ..., 0.6549, 0.6549, 0.6549],\n",
       "          [0.6549, 0.6627, 0.6627,  ..., 0.6549, 0.6627, 0.6549],\n",
       "          [0.6549, 0.6549, 0.6549,  ..., 0.6549, 0.6549, 0.6471]],\n",
       " \n",
       "         [[0.7255, 0.7255, 0.7255,  ..., 0.7255, 0.7255, 0.7176],\n",
       "          [0.7176, 0.7176, 0.7255,  ..., 0.7255, 0.7255, 0.7255],\n",
       "          [0.7176, 0.7176, 0.7176,  ..., 0.7255, 0.7255, 0.7176],\n",
       "          ...,\n",
       "          [0.7020, 0.6941, 0.6863,  ..., 0.6941, 0.6863, 0.6863],\n",
       "          [0.7020, 0.6941, 0.6863,  ..., 0.6941, 0.6941, 0.6863],\n",
       "          [0.6941, 0.6863, 0.6863,  ..., 0.6863, 0.6863, 0.6863]],\n",
       " \n",
       "         [[0.7647, 0.7647, 0.7569,  ..., 0.7490, 0.7490, 0.7490],\n",
       "          [0.7647, 0.7647, 0.7569,  ..., 0.7490, 0.7490, 0.7490],\n",
       "          [0.7647, 0.7647, 0.7647,  ..., 0.7569, 0.7490, 0.7490],\n",
       "          ...,\n",
       "          [0.7255, 0.7333, 0.7412,  ..., 0.7490, 0.7490, 0.7412],\n",
       "          [0.7333, 0.7412, 0.7412,  ..., 0.7412, 0.7490, 0.7412],\n",
       "          [0.7412, 0.7412, 0.7490,  ..., 0.7569, 0.7569, 0.7412]]]),\n",
       " 'captions': array([4341, 4217,  935, 3332, 2622, 1902, 1946,  907, 3066, 3959,  671,\n",
       "        4839,    0,    0,    0,    0,    0,    0]),\n",
       " 'caption_lengths': 12,\n",
       " 'attributes': [5,\n",
       "  15,\n",
       "  24,\n",
       "  30,\n",
       "  36,\n",
       "  45,\n",
       "  51,\n",
       "  55,\n",
       "  64,\n",
       "  78,\n",
       "  85,\n",
       "  91,\n",
       "  102,\n",
       "  111,\n",
       "  117,\n",
       "  126,\n",
       "  132,\n",
       "  146,\n",
       "  147,\n",
       "  150,\n",
       "  164,\n",
       "  173,\n",
       "  179,\n",
       "  188,\n",
       "  194,\n",
       "  203,\n",
       "  209,\n",
       "  216,\n",
       "  221,\n",
       "  228,\n",
       "  237,\n",
       "  241,\n",
       "  245,\n",
       "  254,\n",
       "  284,\n",
       "  290,\n",
       "  299,\n",
       "  305,\n",
       "  309],\n",
       " 'attributes_txt': ['has_bill_shape::hooked_seabird',\n",
       "  'has_wing_color::grey',\n",
       "  'has_wing_color::buff',\n",
       "  'has_upperparts_color::grey',\n",
       "  'has_upperparts_color::black',\n",
       "  'has_underparts_color::grey',\n",
       "  'has_underparts_color::black',\n",
       "  'has_breast_pattern::solid',\n",
       "  'has_back_color::grey',\n",
       "  'has_tail_shape::pointed_tail',\n",
       "  'has_upper_tail_color::grey',\n",
       "  'has_upper_tail_color::black',\n",
       "  'has_head_pattern::plain',\n",
       "  'has_breast_color::grey',\n",
       "  'has_breast_color::black',\n",
       "  'has_throat_color::grey',\n",
       "  'has_throat_color::black',\n",
       "  'has_eye_color::black',\n",
       "  'has_eye_color::white',\n",
       "  'has_bill_length::about_the_same_as_head',\n",
       "  'has_forehead_color::black',\n",
       "  'has_under_tail_color::grey',\n",
       "  'has_under_tail_color::black',\n",
       "  'has_nape_color::grey',\n",
       "  'has_nape_color::black',\n",
       "  'has_belly_color::grey',\n",
       "  'has_belly_color::black',\n",
       "  'has_wing_shape::tapered-wings',\n",
       "  'has_size::medium_(9_-_16_in)',\n",
       "  'has_shape::gull-like',\n",
       "  'has_back_pattern::solid',\n",
       "  'has_tail_pattern::solid',\n",
       "  'has_belly_pattern::solid',\n",
       "  'has_primary_color::grey',\n",
       "  'has_bill_color::grey',\n",
       "  'has_bill_color::black',\n",
       "  'has_crown_color::grey',\n",
       "  'has_crown_color::black',\n",
       "  'has_wing_pattern::solid']}"
      ]
     },
     "execution_count": 5,
     "metadata": {},
     "output_type": "execute_result"
    }
   ],
   "source": [
    "train_dataset[99]"
   ]
  },
  {
   "cell_type": "code",
   "execution_count": 6,
   "metadata": {},
   "outputs": [
    {
     "data": {
      "text/plain": [
       "['has_bill_shape::hooked_seabird',\n",
       " 'has_wing_color::grey',\n",
       " 'has_wing_color::buff',\n",
       " 'has_upperparts_color::grey',\n",
       " 'has_upperparts_color::black',\n",
       " 'has_underparts_color::grey',\n",
       " 'has_underparts_color::black',\n",
       " 'has_breast_pattern::solid',\n",
       " 'has_back_color::grey',\n",
       " 'has_tail_shape::pointed_tail',\n",
       " 'has_upper_tail_color::grey',\n",
       " 'has_upper_tail_color::black',\n",
       " 'has_head_pattern::plain',\n",
       " 'has_breast_color::grey',\n",
       " 'has_breast_color::black',\n",
       " 'has_throat_color::grey',\n",
       " 'has_throat_color::black',\n",
       " 'has_eye_color::black',\n",
       " 'has_eye_color::white',\n",
       " 'has_bill_length::about_the_same_as_head',\n",
       " 'has_forehead_color::black',\n",
       " 'has_under_tail_color::grey',\n",
       " 'has_under_tail_color::black',\n",
       " 'has_nape_color::grey',\n",
       " 'has_nape_color::black',\n",
       " 'has_belly_color::grey',\n",
       " 'has_belly_color::black',\n",
       " 'has_wing_shape::tapered-wings',\n",
       " 'has_size::medium_(9_-_16_in)',\n",
       " 'has_shape::gull-like',\n",
       " 'has_back_pattern::solid',\n",
       " 'has_tail_pattern::solid',\n",
       " 'has_belly_pattern::solid',\n",
       " 'has_primary_color::grey',\n",
       " 'has_bill_color::grey',\n",
       " 'has_bill_color::black',\n",
       " 'has_crown_color::grey',\n",
       " 'has_crown_color::black',\n",
       " 'has_wing_pattern::solid']"
      ]
     },
     "execution_count": 6,
     "metadata": {},
     "output_type": "execute_result"
    }
   ],
   "source": [
    "train_dataset[99][\"attributes_txt\"]"
   ]
  },
  {
   "cell_type": "code",
   "execution_count": null,
   "metadata": {},
   "outputs": [],
   "source": []
  }
 ],
 "metadata": {
  "kernelspec": {
   "display_name": "nlp",
   "language": "python",
   "name": "python3"
  },
  "language_info": {
   "codemirror_mode": {
    "name": "ipython",
    "version": 3
   },
   "file_extension": ".py",
   "mimetype": "text/x-python",
   "name": "python",
   "nbconvert_exporter": "python",
   "pygments_lexer": "ipython3",
   "version": "3.8.15"
  },
  "orig_nbformat": 4,
  "vscode": {
   "interpreter": {
    "hash": "aff931160c6cbcb277725a41de614f8383f349a60a99b1eca681f70083c53172"
   }
  }
 },
 "nbformat": 4,
 "nbformat_minor": 2
}
