{
 "cells": [
  {
   "cell_type": "code",
   "execution_count": 27,
   "metadata": {},
   "outputs": [],
   "source": [
    "# open attributes txt\n",
    "attributes_file = \"./data/CUB_200_2011/attributes/attributes.txt\"\n",
    "\n",
    "attributes_dict = {}\n",
    "with open(attributes_file, \"r\") as f:\n",
    "    while True:\n",
    "        line = f.readline().rstrip()\n",
    "        if not line:\n",
    "            break\n",
    "        line = line.split(\" \")\n",
    "        attributes_dict[int(line[0])] = line[1]"
   ]
  },
  {
   "cell_type": "code",
   "execution_count": 28,
   "metadata": {},
   "outputs": [],
   "source": [
    "file_name = \"./data/CUB_200_2011/attributes/image_attribute_labels.txt\"\n",
    "\n",
    "results = {}\n",
    "\n",
    "with open(file_name, \"r\") as f:\n",
    "    while True:\n",
    "        line = f.readline().rstrip()\n",
    "        if not line:\n",
    "            break        \n",
    "        infos = line.split(\" \")\n",
    "        image_id = int(infos[0])\n",
    "        attribute_num = int(infos[1])\n",
    "        is_present = int(infos[2])\n",
    "        certainty = int(infos[3])\n",
    "        \n",
    "        if is_present:\n",
    "            if image_id in results.keys():\n",
    "                results[image_id][\"attributes\"].append(attribute_num)\n",
    "                results[image_id][\"attributes_txt\"].append(attributes_dict[attribute_num])\n",
    "            else:\n",
    "                results[image_id] = {\"attributes\": [attribute_num],\n",
    "                                     \"attributes_txt\": [attributes_dict[attribute_num]]}"
   ]
  },
  {
   "cell_type": "code",
   "execution_count": 29,
   "metadata": {},
   "outputs": [
    {
     "data": {
      "text/plain": [
       "['./data/CUB_200_2011/attributes/attributes_dict.pkl']"
      ]
     },
     "execution_count": 29,
     "metadata": {},
     "output_type": "execute_result"
    }
   ],
   "source": [
    "# save attributes to pickle file\n",
    "import joblib\n",
    "\n",
    "joblib.dump(results, \"./data/CUB_200_2011/attributes/attributes_dict.pkl\")"
   ]
  }
 ],
 "metadata": {
  "kernelspec": {
   "display_name": "Python 3.8.15 ('nlp')",
   "language": "python",
   "name": "python3"
  },
  "language_info": {
   "codemirror_mode": {
    "name": "ipython",
    "version": 3
   },
   "file_extension": ".py",
   "mimetype": "text/x-python",
   "name": "python",
   "nbconvert_exporter": "python",
   "pygments_lexer": "ipython3",
   "version": "3.8.15"
  },
  "orig_nbformat": 4,
  "vscode": {
   "interpreter": {
    "hash": "aff931160c6cbcb277725a41de614f8383f349a60a99b1eca681f70083c53172"
   }
  }
 },
 "nbformat": 4,
 "nbformat_minor": 2
}
