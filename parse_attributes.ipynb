{
 "cells": [
  {
   "cell_type": "code",
   "execution_count": 21,
   "metadata": {},
   "outputs": [],
   "source": [
    "# open attributes txt\n",
    "attributes_file = \"./data/CUB_200_2011/attributes/attributes.txt\"\n",
    "\n",
    "attributes_dict = {}\n",
    "with open(attributes_file, \"r\") as f:\n",
    "    while True:\n",
    "        line = f.readline().rstrip()\n",
    "        if not line:\n",
    "            break\n",
    "        line = line.split(\" \")\n",
    "        attributes_dict[int(line[0])] = line[1]"
   ]
  },
  {
   "cell_type": "code",
   "execution_count": 22,
   "metadata": {},
   "outputs": [],
   "source": [
    "image_class_labels_file = \"./data/CUB_200_2011/image_class_labels.txt\"\n",
    "\n",
    "image_class_labels_dict = {}\n",
    "with open(image_class_labels_file, \"r\") as f:\n",
    "    while True:\n",
    "        line = f.readline().rstrip()\n",
    "        if not line:\n",
    "            break\n",
    "        line = line.split(\" \")\n",
    "        image_class_labels_dict[int(line[0])] = int(line[1])"
   ]
  },
  {
   "cell_type": "code",
   "execution_count": 23,
   "metadata": {},
   "outputs": [],
   "source": [
    "import pickle as pkl\n",
    "import numpy as np\n",
    "\n",
    "with open(\"./data/birds/test/class_info.pickle\", \"rb\") as f:\n",
    "    test_cls_info = pkl.load(f)\n",
    "    \n",
    "test_cls_info = np.unique(test_cls_info)"
   ]
  },
  {
   "cell_type": "code",
   "execution_count": 24,
   "metadata": {},
   "outputs": [],
   "source": [
    "# split dictionary into test and split\n",
    "\n",
    "train_images = {}\n",
    "test_images = {}\n",
    "\n",
    "train_idx = 0\n",
    "test_idx = 0\n",
    "\n",
    "for key in image_class_labels_dict:\n",
    "    if image_class_labels_dict[key] in test_cls_info:\n",
    "        test_images[key] = test_idx\n",
    "        test_idx += 1\n",
    "    else:\n",
    "        train_images[key] = train_idx\n",
    "        train_idx += 1"
   ]
  },
  {
   "cell_type": "code",
   "execution_count": 25,
   "metadata": {},
   "outputs": [],
   "source": [
    "file_name = \"./data/CUB_200_2011/attributes/image_attribute_labels.txt\"\n",
    "\n",
    "train_results = {}\n",
    "test_results = {}\n",
    "\n",
    "with open(file_name, \"r\") as f:\n",
    "    while True:\n",
    "        line = f.readline().rstrip()\n",
    "        if not line:\n",
    "            break        \n",
    "        infos = line.split(\" \")\n",
    "        image_id = int(infos[0])\n",
    "        attribute_num = int(infos[1])\n",
    "        is_present = int(infos[2])\n",
    "        certainty = int(infos[3])\n",
    "        \n",
    "        # test image\n",
    "        if image_class_labels_dict[image_id] in test_cls_info:\n",
    "            idx = test_images[image_id]\n",
    "            if is_present:\n",
    "                if idx in test_results.keys():\n",
    "                    test_results[idx][\"attributes\"].append(attribute_num)\n",
    "                    test_results[idx][\"attributes_txt\"].append(attributes_dict[attribute_num])\n",
    "                else:\n",
    "                    test_results[idx] = {\"attributes\": [attribute_num],\n",
    "                                        \"attributes_txt\": [attributes_dict[attribute_num]]}\n",
    "        else:\n",
    "            idx = train_images[image_id]\n",
    "            if is_present:\n",
    "                if idx in train_results.keys():\n",
    "                    train_results[idx][\"attributes\"].append(attribute_num)\n",
    "                    train_results[idx][\"attributes_txt\"].append(attributes_dict[attribute_num])\n",
    "                else:\n",
    "                    train_results[idx] = {\"attributes\": [attribute_num],\n",
    "                                        \"attributes_txt\": [attributes_dict[attribute_num]]}"
   ]
  },
  {
   "cell_type": "code",
   "execution_count": 26,
   "metadata": {},
   "outputs": [
    {
     "data": {
      "text/plain": [
       "['./data/CUB_200_2011/train/attributes_dict.pkl']"
      ]
     },
     "execution_count": 26,
     "metadata": {},
     "output_type": "execute_result"
    }
   ],
   "source": [
    "# save attributes to pickle file\n",
    "import joblib\n",
    "\n",
    "joblib.dump(test_results, \"./data/CUB_200_2011/test/attributes_dict.pkl\")\n",
    "joblib.dump(train_results, \"./data/CUB_200_2011/train/attributes_dict.pkl\")"
   ]
  },
  {
   "cell_type": "code",
   "execution_count": 27,
   "metadata": {},
   "outputs": [
    {
     "data": {
      "text/plain": [
       "8855"
      ]
     },
     "execution_count": 27,
     "metadata": {},
     "output_type": "execute_result"
    }
   ],
   "source": [
    "len(train_results)"
   ]
  },
  {
   "cell_type": "code",
   "execution_count": 28,
   "metadata": {},
   "outputs": [
    {
     "data": {
      "text/plain": [
       "2933"
      ]
     },
     "execution_count": 28,
     "metadata": {},
     "output_type": "execute_result"
    }
   ],
   "source": [
    "len(test_results)"
   ]
  },
  {
   "cell_type": "code",
   "execution_count": null,
   "metadata": {},
   "outputs": [],
   "source": []
  }
 ],
 "metadata": {
  "kernelspec": {
   "display_name": "Python 3.8.15 ('nlp')",
   "language": "python",
   "name": "python3"
  },
  "language_info": {
   "codemirror_mode": {
    "name": "ipython",
    "version": 3
   },
   "file_extension": ".py",
   "mimetype": "text/x-python",
   "name": "python",
   "nbconvert_exporter": "python",
   "pygments_lexer": "ipython3",
   "version": "3.8.15"
  },
  "orig_nbformat": 4,
  "vscode": {
   "interpreter": {
    "hash": "aff931160c6cbcb277725a41de614f8383f349a60a99b1eca681f70083c53172"
   }
  }
 },
 "nbformat": 4,
 "nbformat_minor": 2
}
